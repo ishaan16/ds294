{
 "cells": [
  {
   "cell_type": "code",
   "execution_count": 41,
   "metadata": {
    "collapsed": true
   },
   "outputs": [],
   "source": [
    "import numpy as np\n",
    "import matplotlib.pyplot as plt\n",
    "\n",
    "def objF(y,x,A,gamma,theta):\n",
    "    return np.linalg.norm(y-np.dot(A,x))**2 + gamma*np.dot(theta.T,x) \n",
    "\n",
    "def discreteLineSearch(gram,corr,theta,sol,sds,sparsity):\n",
    "    rhs = corr - sparsity * theta / 2\n",
    "    new_solution = np.linalg.solve(gram, rhs)\n",
    "    new_theta = np.sign(new_solution)\n",
    "    sign_flips = np.where(abs(new_theta - theta) > 1)[0]\n",
    "    if len(sign_flips) > 0:\n",
    "        best_curr = new_solution\n",
    "        best_obj = (sds + (np.dot(new_solution,\n",
    "                                  np.dot(gram, new_solution))\n",
    "                    - 2 * np.dot(new_solution,corr))\n",
    "                    + sparsity * abs(new_solution).sum())\n",
    "        for idx in sign_flips:\n",
    "            a = new_solution[idx]\n",
    "            b = sol[idx]\n",
    "            prop = b / (b - a)\n",
    "            curr = sol - prop * (sol - new_solution)\n",
    "            cost = sds + (np.dot(curr, np.dot(gram, curr))\n",
    "                          - 2 * np.dot(curr,corr)\n",
    "                          + sparsity * abs(curr).sum())\n",
    "            if cost < best_obj:\n",
    "                best_obj = cost\n",
    "                best_curr = curr\n",
    "    else:\n",
    "        best_curr = new_solution\n",
    "    return best_curr\n",
    "\n",
    "def featureSignSearch(A,y,gamma):\n",
    "    effective_zero = 1e-18\n",
    "    k,n = A.shape\n",
    "    gram_matrix = np.dot(A.T, A)\n",
    "    target = np.dot(A.T, y)\n",
    "    x = np.zeros(n)\n",
    "    theta = np.zeros(n, dtype=np.int8)\n",
    "    active_set = set()\n",
    "    z_opt = np.inf # Used to store gradient check for zero coefficients\n",
    "    nz_opt = 0 # Used to store gradient check for non-zero coefficients\n",
    "    grad = - 2 * target + 2 * np.dot(gram_matrix, x)\n",
    "    sds = np.dot(y.T, y)\n",
    "    obj=[]\n",
    "    while z_opt > gamma or not np.allclose(nz_opt, 0):\n",
    "        obj.append(objF(y,x,A,gamma,theta))\n",
    "        if np.allclose(nz_opt, 0):\n",
    "            candidate = np.argmax(np.abs(grad) * (theta == 0))\n",
    "            if grad[candidate] > gamma:\n",
    "                theta[candidate] = -1.\n",
    "                x[candidate] = 0.\n",
    "                active_set.add(candidate)\n",
    "            elif grad[candidate] < -gamma:\n",
    "                theta[candidate] = 1.\n",
    "                x[candidate] = 0.\n",
    "                active_set.add(candidate)\n",
    "            if len(active_set) == 0:\n",
    "                break\n",
    "        ind= np.array(sorted(active_set))\n",
    "        cut_gram = gram_matrix[np.ix_(ind, ind)]\n",
    "        cut_corr = target[ind]\n",
    "        cut_theta = theta[ind]\n",
    "        cut_sol = x[ind]\n",
    "        ############# Discrete Line Segment Search #####################\n",
    "        x[ind]= discreteLineSearch(cut_gram,cut_corr,cut_theta,\n",
    "                                   cut_sol,sds,gamma)\n",
    "        ################################################################\n",
    "        zeros = ind[np.abs(x[ind]) < effective_zero]\n",
    "        x[zeros] = 0.\n",
    "        theta[ind] = np.int8(np.sign(x[ind]))\n",
    "        active_set.difference_update(zeros)\n",
    "        grad = - 2 * target+ 2 * np.dot(gram_matrix, x)\n",
    "        z_opt = np.max(abs(grad[theta == 0]))\n",
    "        nz_opt = np.max(abs(grad[theta != 0] + gamma * theta[theta != 0]))\n",
    "        \n",
    "    plt.plot(obj)\n",
    "    plt.xlabel('Iterations')\n",
    "    plt.ylabel(\"Objective Function\")\n",
    "    plt.title(\"Value of objective function after iterations\")\n",
    "    plt.show()\n",
    "    return x,obj[-1]"
   ]
  },
  {
   "cell_type": "code",
   "execution_count": 42,
   "metadata": {
    "collapsed": false
   },
   "outputs": [
    {
     "data": {
      "image/png": "[encoded data removed]",
      "text/plain": [
       "<Figure size 432x288 with 1 Axes>"
      ]
     },
     "metadata": {},
     "output_type": "display_data"
    },
    {
     "name": "stdout",
     "output_type": "stream",
     "text": [
      "Final Value of L1 regularized error function = 11.1396\n"
     ]
    }
   ],
   "source": [
    "##### Test Case ######\n",
    "k,n = 200,1000\n",
    "y = np.random.random(k)\n",
    "A = np.random.random((k,n))\n",
    "gamma = 2.0\n",
    "x,obj = featureSignSearch(A,y,gamma)\n",
    "print(\"Final Value of L1 regularized error function = %2.4f\"%obj)"
   ]
  },
  {
   "cell_type": "code",
   "execution_count": null,
   "metadata": {
    "collapsed": true
   },
   "outputs": [],
   "source": []
  }
 ],
 "metadata": {
  "kernelspec": {
   "display_name": "Python 2",
   "language": "python",
   "name": "python2"
  },
  "language_info": {
   "codemirror_mode": {
    "name": "ipython",
    "version": 2
   },
   "file_extension": ".py",
   "mimetype": "text/x-python",
   "name": "python",
   "nbconvert_exporter": "python",
   "pygments_lexer": "ipython2",
   "version": "2.7.10"
  }
 },
 "nbformat": 4,
 "nbformat_minor": 1
}
